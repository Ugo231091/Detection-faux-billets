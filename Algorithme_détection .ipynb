{
 "cells": [
  {
   "cell_type": "code",
   "execution_count": 1,
   "metadata": {},
   "outputs": [],
   "source": [
    "import sys\n",
    "import pandas as pd\n",
    "import numpy as np\n",
    "from sklearn.linear_model import LogisticRegression\n",
    "from sklearn import model_selection\n",
    "from joblib import dump, load"
   ]
  },
  {
   "cell_type": "markdown",
   "metadata": {},
   "source": [
    "## Le modèle de régression logistique"
   ]
  },
  {
   "cell_type": "code",
   "execution_count": 2,
   "metadata": {},
   "outputs": [],
   "source": [
    "model_CV = load(\"Logistic_Trained_model.joblib\")"
   ]
  },
  {
   "cell_type": "code",
   "execution_count": 3,
   "metadata": {},
   "outputs": [],
   "source": [
    "dataset_new = pd.read_csv('billets_test.csv', sep=\",\", decimal=\".\", header=0)"
   ]
  },
  {
   "cell_type": "code",
   "execution_count": 4,
   "metadata": {},
   "outputs": [
    {
     "name": "stdout",
     "output_type": "stream",
     "text": [
      "Les variables du fichier sont correctes. Voici un aperçu des données :\n",
      "\n",
      "    diagonal  height_left  height_right  margin_low  margin_up  length   id\n",
      "0    172.09       103.95        103.73        4.39       3.09  113.19  B_1\n",
      "1    171.52       104.17        104.03        5.27       3.16  111.82  B_2\n",
      "2    171.78       103.80        103.75        3.81       3.24  113.39  B_3\n",
      "3    172.02       104.08        103.99        5.57       3.30  111.10  B_4\n",
      "4    171.79       104.34        104.37        5.00       3.07  111.87  B_5\n"
     ]
    }
   ],
   "source": [
    "\n",
    "#vérification des variables\n",
    "liste_X = [\"diagonal\",\"height_left\",\"height_right\",\"margin_low\",\"margin_up\",\"length\",\"id\"]\n",
    "if all([item in dataset_new.columns for item in liste_X]):\n",
    "    print(\"Les variables du fichier sont correctes. Voici un aperçu des données :\\n\\n\",dataset_new)\n",
    "else :\n",
    "    messagebox.showerror(title=\"Erreur d'importation du fichier\", message=\"Attention, les colonnes du fichier \"+root.filename+\" ne correspondent pas à la trame attendue !\")\n",
    "    sys.exit()"
   ]
  },
  {
   "cell_type": "code",
   "execution_count": 5,
   "metadata": {},
   "outputs": [
    {
     "name": "stdout",
     "output_type": "stream",
     "text": [
      "Aucune valeur nulle détectée, le traitement peut continuer.\n"
     ]
    }
   ],
   "source": [
    "\n",
    "if((dataset_new.isnull().sum(axis = 0)).sum() > 0):\n",
    "    messagebox.showerror(title=\"Valeurs nulles détectées\", message=\"Attention, des valeurs nulles ont été détectées dans le fichier ! Traitement impossible en l'état.\")\n",
    "    sys.exit()\n",
    "else :\n",
    "    print(\"Aucune valeur nulle détectée, le traitement peut continuer.\")"
   ]
  },
  {
   "cell_type": "code",
   "execution_count": 6,
   "metadata": {},
   "outputs": [],
   "source": [
    "\n",
    "#creation des variables \n",
    "X_new = dataset_new[liste_X[:-1]]\n",
    "\n",
    "#calcul des probabilités d'affectation sur l'échantillon exemple\n",
    "probas_new = model_CV.predict_proba(X_new)\n",
    "\n",
    "#score de presence : Probalilité de chance que le billet soit VRAI (is_genuine = 0)\n",
    "score_new = probas_new[:,0]\n",
    "\n",
    "#Ajout de la colonne probabilité\n",
    "dataset_new[\"proba_true\"] = score_new\n",
    "#calcul de la variable is_genuine\n",
    "dataset_new[\"is_genuine\"] = np.where(dataset_new[\"proba_true\"]>=0.5, 'Oui', 'Non')\n",
    "#traitement du Dataframe pour meilleure compréhension :\n",
    "dataset_new_fin = dataset_new[[\"id\",\"proba_true\",\"is_genuine\"]].rename(columns={\"id\":\"Identifiant du billet testé\",\n",
    "                                                                                 \"proba_true\":\"Probabilité que le billet soit VRAI (%)\",\n",
    "                                                                                 \"is_genuine\":\"Est authentique ?\"})\n",
    "dataset_new_fin[\"Probabilité que le billet soit VRAI (%)\"] = round((dataset_new_fin[\"Probabilité que le billet soit VRAI (%)\"]*100),2)"
   ]
  },
  {
   "cell_type": "code",
   "execution_count": 7,
   "metadata": {},
   "outputs": [
    {
     "data": {
      "text/html": [
       "<div>\n",
       "<style scoped>\n",
       "    .dataframe tbody tr th:only-of-type {\n",
       "        vertical-align: middle;\n",
       "    }\n",
       "\n",
       "    .dataframe tbody tr th {\n",
       "        vertical-align: top;\n",
       "    }\n",
       "\n",
       "    .dataframe thead th {\n",
       "        text-align: right;\n",
       "    }\n",
       "</style>\n",
       "<table border=\"1\" class=\"dataframe\">\n",
       "  <thead>\n",
       "    <tr style=\"text-align: right;\">\n",
       "      <th></th>\n",
       "      <th>Identifiant du billet testé</th>\n",
       "      <th>Probabilité que le billet soit VRAI (%)</th>\n",
       "      <th>Est authentique ?</th>\n",
       "    </tr>\n",
       "  </thead>\n",
       "  <tbody>\n",
       "    <tr>\n",
       "      <th>0</th>\n",
       "      <td>B_1</td>\n",
       "      <td>99.87</td>\n",
       "      <td>Oui</td>\n",
       "    </tr>\n",
       "    <tr>\n",
       "      <th>1</th>\n",
       "      <td>B_2</td>\n",
       "      <td>0.06</td>\n",
       "      <td>Non</td>\n",
       "    </tr>\n",
       "    <tr>\n",
       "      <th>2</th>\n",
       "      <td>B_3</td>\n",
       "      <td>100.00</td>\n",
       "      <td>Oui</td>\n",
       "    </tr>\n",
       "    <tr>\n",
       "      <th>3</th>\n",
       "      <td>B_4</td>\n",
       "      <td>0.00</td>\n",
       "      <td>Non</td>\n",
       "    </tr>\n",
       "    <tr>\n",
       "      <th>4</th>\n",
       "      <td>B_5</td>\n",
       "      <td>0.22</td>\n",
       "      <td>Non</td>\n",
       "    </tr>\n",
       "  </tbody>\n",
       "</table>\n",
       "</div>"
      ],
      "text/plain": [
       "  Identifiant du billet testé  Probabilité que le billet soit VRAI (%)  \\\n",
       "0                         B_1                                    99.87   \n",
       "1                         B_2                                     0.06   \n",
       "2                         B_3                                   100.00   \n",
       "3                         B_4                                     0.00   \n",
       "4                         B_5                                     0.22   \n",
       "\n",
       "  Est authentique ?  \n",
       "0               Oui  \n",
       "1               Non  \n",
       "2               Oui  \n",
       "3               Non  \n",
       "4               Non  "
      ]
     },
     "execution_count": 7,
     "metadata": {},
     "output_type": "execute_result"
    }
   ],
   "source": [
    "dataset_new_fin"
   ]
  },
  {
   "cell_type": "code",
   "execution_count": 8,
   "metadata": {},
   "outputs": [
    {
     "name": "stdout",
     "output_type": "stream",
     "text": [
      "Les billets dont l'identifiant est dans la liste ['B_2', 'B_4', 'B_5'] \n",
      "ont été identifiés commes FAUX selon l'algorithme de prédiction.\n"
     ]
    }
   ],
   "source": [
    "liste_faux_billets = list(dataset_new_fin.loc[(dataset_new_fin[\"Est authentique ?\"] == \"Non\"),\"Identifiant du billet testé\"].values)\n",
    "\n",
    "print(\"Les billets dont l'identifiant est dans la liste\", liste_faux_billets, \"\\nont été identifiés commes FAUX selon l'algorithme de prédiction.\")"
   ]
  }
 ],
 "metadata": {
  "kernelspec": {
   "display_name": "Python 3",
   "language": "python",
   "name": "python3"
  },
  "language_info": {
   "codemirror_mode": {
    "name": "ipython",
    "version": 3
   },
   "file_extension": ".py",
   "mimetype": "text/x-python",
   "name": "python",
   "nbconvert_exporter": "python",
   "pygments_lexer": "ipython3",
   "version": "3.8.5"
  }
 },
 "nbformat": 4,
 "nbformat_minor": 4
}
